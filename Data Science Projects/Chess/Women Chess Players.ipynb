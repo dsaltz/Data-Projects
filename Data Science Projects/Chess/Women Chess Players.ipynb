{
 "cells": [
  {
   "cell_type": "markdown",
   "metadata": {},
   "source": [
    "### Import necessary packages"
   ]
  },
  {
   "cell_type": "code",
   "execution_count": 40,
   "metadata": {},
   "outputs": [
    {
     "name": "stdout",
     "output_type": "stream",
     "text": [
      "All packages imported!\n"
     ]
    }
   ],
   "source": [
    "import numpy as np\n",
    "import pandas as pd\n",
    "import seaborn as sns\n",
    "from matplotlib import pyplot as plt\n",
    "print('All packages imported!')"
   ]
  },
  {
   "cell_type": "code",
   "execution_count": 41,
   "metadata": {},
   "outputs": [
    {
     "data": {
      "text/html": [
       "<div>\n",
       "<style scoped>\n",
       "    .dataframe tbody tr th:only-of-type {\n",
       "        vertical-align: middle;\n",
       "    }\n",
       "\n",
       "    .dataframe tbody tr th {\n",
       "        vertical-align: top;\n",
       "    }\n",
       "\n",
       "    .dataframe thead th {\n",
       "        text-align: right;\n",
       "    }\n",
       "</style>\n",
       "<table border=\"1\" class=\"dataframe\">\n",
       "  <thead>\n",
       "    <tr style=\"text-align: right;\">\n",
       "      <th></th>\n",
       "      <th>Fide id</th>\n",
       "      <th>Name</th>\n",
       "      <th>Federation</th>\n",
       "      <th>Gender</th>\n",
       "      <th>Year_of_birth</th>\n",
       "      <th>Title</th>\n",
       "      <th>Standard_Rating</th>\n",
       "      <th>Rapid_rating</th>\n",
       "      <th>Blitz_rating</th>\n",
       "      <th>Inactive_flag</th>\n",
       "    </tr>\n",
       "  </thead>\n",
       "  <tbody>\n",
       "    <tr>\n",
       "      <th>0</th>\n",
       "      <td>700070</td>\n",
       "      <td>Polgar, Judit</td>\n",
       "      <td>HUN</td>\n",
       "      <td>F</td>\n",
       "      <td>1976.0</td>\n",
       "      <td>GM</td>\n",
       "      <td>2675</td>\n",
       "      <td>2646.0</td>\n",
       "      <td>2736.0</td>\n",
       "      <td>wi</td>\n",
       "    </tr>\n",
       "    <tr>\n",
       "      <th>1</th>\n",
       "      <td>8602980</td>\n",
       "      <td>Hou, Yifan</td>\n",
       "      <td>CHN</td>\n",
       "      <td>F</td>\n",
       "      <td>1994.0</td>\n",
       "      <td>GM</td>\n",
       "      <td>2658</td>\n",
       "      <td>2621.0</td>\n",
       "      <td>2601.0</td>\n",
       "      <td>NaN</td>\n",
       "    </tr>\n",
       "    <tr>\n",
       "      <th>2</th>\n",
       "      <td>5008123</td>\n",
       "      <td>Koneru, Humpy</td>\n",
       "      <td>IND</td>\n",
       "      <td>F</td>\n",
       "      <td>1987.0</td>\n",
       "      <td>GM</td>\n",
       "      <td>2586</td>\n",
       "      <td>2483.0</td>\n",
       "      <td>2483.0</td>\n",
       "      <td>NaN</td>\n",
       "    </tr>\n",
       "    <tr>\n",
       "      <th>3</th>\n",
       "      <td>4147103</td>\n",
       "      <td>Goryachkina, Aleksandra</td>\n",
       "      <td>RUS</td>\n",
       "      <td>F</td>\n",
       "      <td>1998.0</td>\n",
       "      <td>GM</td>\n",
       "      <td>2582</td>\n",
       "      <td>2502.0</td>\n",
       "      <td>2441.0</td>\n",
       "      <td>NaN</td>\n",
       "    </tr>\n",
       "    <tr>\n",
       "      <th>4</th>\n",
       "      <td>700088</td>\n",
       "      <td>Polgar, Susan</td>\n",
       "      <td>HUN</td>\n",
       "      <td>F</td>\n",
       "      <td>1969.0</td>\n",
       "      <td>GM</td>\n",
       "      <td>2577</td>\n",
       "      <td>NaN</td>\n",
       "      <td>NaN</td>\n",
       "      <td>wi</td>\n",
       "    </tr>\n",
       "  </tbody>\n",
       "</table>\n",
       "</div>"
      ],
      "text/plain": [
       "   Fide id                     Name Federation Gender  Year_of_birth Title  \\\n",
       "0   700070            Polgar, Judit        HUN      F         1976.0    GM   \n",
       "1  8602980               Hou, Yifan        CHN      F         1994.0    GM   \n",
       "2  5008123            Koneru, Humpy        IND      F         1987.0    GM   \n",
       "3  4147103  Goryachkina, Aleksandra        RUS      F         1998.0    GM   \n",
       "4   700088            Polgar, Susan        HUN      F         1969.0    GM   \n",
       "\n",
       "   Standard_Rating  Rapid_rating  Blitz_rating Inactive_flag  \n",
       "0             2675        2646.0        2736.0            wi  \n",
       "1             2658        2621.0        2601.0           NaN  \n",
       "2             2586        2483.0        2483.0           NaN  \n",
       "3             2582        2502.0        2441.0           NaN  \n",
       "4             2577           NaN           NaN            wi  "
      ]
     },
     "execution_count": 41,
     "metadata": {},
     "output_type": "execute_result"
    }
   ],
   "source": [
    "df = pd.read_csv('top_women_chess_players_aug_2020.csv')\n",
    "df.head()"
   ]
  },
  {
   "cell_type": "code",
   "execution_count": 42,
   "metadata": {},
   "outputs": [
    {
     "data": {
      "text/html": [
       "<div>\n",
       "<style scoped>\n",
       "    .dataframe tbody tr th:only-of-type {\n",
       "        vertical-align: middle;\n",
       "    }\n",
       "\n",
       "    .dataframe tbody tr th {\n",
       "        vertical-align: top;\n",
       "    }\n",
       "\n",
       "    .dataframe thead th {\n",
       "        text-align: right;\n",
       "    }\n",
       "</style>\n",
       "<table border=\"1\" class=\"dataframe\">\n",
       "  <thead>\n",
       "    <tr style=\"text-align: right;\">\n",
       "      <th></th>\n",
       "      <th>Fide id</th>\n",
       "      <th>Year_of_birth</th>\n",
       "      <th>Standard_Rating</th>\n",
       "      <th>Rapid_rating</th>\n",
       "      <th>Blitz_rating</th>\n",
       "    </tr>\n",
       "  </thead>\n",
       "  <tbody>\n",
       "    <tr>\n",
       "      <th>count</th>\n",
       "      <td>8.553000e+03</td>\n",
       "      <td>8261.000000</td>\n",
       "      <td>8553.000000</td>\n",
       "      <td>3608.000000</td>\n",
       "      <td>3472.000000</td>\n",
       "    </tr>\n",
       "    <tr>\n",
       "      <th>mean</th>\n",
       "      <td>8.829011e+06</td>\n",
       "      <td>1985.291732</td>\n",
       "      <td>2005.102303</td>\n",
       "      <td>1931.680155</td>\n",
       "      <td>1925.155242</td>\n",
       "    </tr>\n",
       "    <tr>\n",
       "      <th>std</th>\n",
       "      <td>9.226777e+06</td>\n",
       "      <td>14.055386</td>\n",
       "      <td>137.146646</td>\n",
       "      <td>191.449272</td>\n",
       "      <td>188.556849</td>\n",
       "    </tr>\n",
       "    <tr>\n",
       "      <th>min</th>\n",
       "      <td>1.001450e+05</td>\n",
       "      <td>1920.000000</td>\n",
       "      <td>1801.000000</td>\n",
       "      <td>1224.000000</td>\n",
       "      <td>1159.000000</td>\n",
       "    </tr>\n",
       "    <tr>\n",
       "      <th>25%</th>\n",
       "      <td>2.119447e+06</td>\n",
       "      <td>1978.000000</td>\n",
       "      <td>1891.000000</td>\n",
       "      <td>1811.000000</td>\n",
       "      <td>1805.000000</td>\n",
       "    </tr>\n",
       "    <tr>\n",
       "      <th>50%</th>\n",
       "      <td>4.500539e+06</td>\n",
       "      <td>1988.000000</td>\n",
       "      <td>1998.000000</td>\n",
       "      <td>1921.000000</td>\n",
       "      <td>1919.000000</td>\n",
       "    </tr>\n",
       "    <tr>\n",
       "      <th>75%</th>\n",
       "      <td>1.360553e+07</td>\n",
       "      <td>1995.000000</td>\n",
       "      <td>2090.000000</td>\n",
       "      <td>2051.000000</td>\n",
       "      <td>2044.000000</td>\n",
       "    </tr>\n",
       "    <tr>\n",
       "      <th>max</th>\n",
       "      <td>7.360114e+07</td>\n",
       "      <td>2010.000000</td>\n",
       "      <td>2675.000000</td>\n",
       "      <td>2646.000000</td>\n",
       "      <td>2736.000000</td>\n",
       "    </tr>\n",
       "  </tbody>\n",
       "</table>\n",
       "</div>"
      ],
      "text/plain": [
       "            Fide id  Year_of_birth  Standard_Rating  Rapid_rating  \\\n",
       "count  8.553000e+03    8261.000000      8553.000000   3608.000000   \n",
       "mean   8.829011e+06    1985.291732      2005.102303   1931.680155   \n",
       "std    9.226777e+06      14.055386       137.146646    191.449272   \n",
       "min    1.001450e+05    1920.000000      1801.000000   1224.000000   \n",
       "25%    2.119447e+06    1978.000000      1891.000000   1811.000000   \n",
       "50%    4.500539e+06    1988.000000      1998.000000   1921.000000   \n",
       "75%    1.360553e+07    1995.000000      2090.000000   2051.000000   \n",
       "max    7.360114e+07    2010.000000      2675.000000   2646.000000   \n",
       "\n",
       "       Blitz_rating  \n",
       "count   3472.000000  \n",
       "mean    1925.155242  \n",
       "std      188.556849  \n",
       "min     1159.000000  \n",
       "25%     1805.000000  \n",
       "50%     1919.000000  \n",
       "75%     2044.000000  \n",
       "max     2736.000000  "
      ]
     },
     "execution_count": 42,
     "metadata": {},
     "output_type": "execute_result"
    }
   ],
   "source": [
    "df.describe()"
   ]
  },
  {
   "cell_type": "code",
   "execution_count": 43,
   "metadata": {},
   "outputs": [
    {
     "data": {
      "text/plain": [
       "Title              63.544955\n",
       "Blitz_rating       59.406056\n",
       "Rapid_rating       57.815971\n",
       "Inactive_flag      31.579563\n",
       "Year_of_birth       3.414007\n",
       "Standard_Rating     0.000000\n",
       "Gender              0.000000\n",
       "Federation          0.000000\n",
       "Name                0.000000\n",
       "Fide id             0.000000\n",
       "dtype: float64"
      ]
     },
     "execution_count": 43,
     "metadata": {},
     "output_type": "execute_result"
    }
   ],
   "source": [
    "nulls = df.isnull().sum()/len(df)*100\n",
    "nulls.sort_values(ascending = False).head(10)"
   ]
  },
  {
   "cell_type": "code",
   "execution_count": 44,
   "metadata": {},
   "outputs": [
    {
     "data": {
      "text/plain": [
       "wi     5852\n",
       "NaN    2701\n",
       "Name: Inactive_flag, dtype: int64"
      ]
     },
     "execution_count": 44,
     "metadata": {},
     "output_type": "execute_result"
    }
   ],
   "source": [
    "df['Inactive_flag'].value_counts(dropna=False)"
   ]
  },
  {
   "cell_type": "code",
   "execution_count": 45,
   "metadata": {},
   "outputs": [
    {
     "data": {
      "text/plain": [
       "Inactive    5852\n",
       "Active      2701\n",
       "Name: Inactive_flag, dtype: int64"
      ]
     },
     "execution_count": 45,
     "metadata": {},
     "output_type": "execute_result"
    }
   ],
   "source": [
    "df['Inactive_flag'] = df['Inactive_flag'].fillna('Active')\n",
    "df['Inactive_flag'] = df['Inactive_flag'].replace('wi', 'Inactive')\n",
    "df['Inactive_flag'].value_counts(dropna=False)"
   ]
  },
  {
   "cell_type": "code",
   "execution_count": 46,
   "metadata": {},
   "outputs": [
    {
     "data": {
      "text/plain": [
       "NaN    5435\n",
       "WFM    1545\n",
       "WIM     809\n",
       "WGM     316\n",
       "WCM     247\n",
       "IM      119\n",
       "GM       37\n",
       "FM       36\n",
       "CM        8\n",
       "WH        1\n",
       "Name: Title, dtype: int64"
      ]
     },
     "execution_count": 46,
     "metadata": {},
     "output_type": "execute_result"
    }
   ],
   "source": [
    "df['Title'].value_counts(dropna=False)"
   ]
  },
  {
   "cell_type": "code",
   "execution_count": 53,
   "metadata": {},
   "outputs": [
    {
     "data": {
      "text/html": [
       "<div>\n",
       "<style scoped>\n",
       "    .dataframe tbody tr th:only-of-type {\n",
       "        vertical-align: middle;\n",
       "    }\n",
       "\n",
       "    .dataframe tbody tr th {\n",
       "        vertical-align: top;\n",
       "    }\n",
       "\n",
       "    .dataframe thead th {\n",
       "        text-align: right;\n",
       "    }\n",
       "</style>\n",
       "<table border=\"1\" class=\"dataframe\">\n",
       "  <thead>\n",
       "    <tr style=\"text-align: right;\">\n",
       "      <th></th>\n",
       "      <th>Fide id</th>\n",
       "      <th>Name</th>\n",
       "      <th>Federation</th>\n",
       "      <th>Gender</th>\n",
       "      <th>Year_of_birth</th>\n",
       "      <th>Title</th>\n",
       "      <th>Standard_Rating</th>\n",
       "      <th>Rapid_rating</th>\n",
       "      <th>Blitz_rating</th>\n",
       "      <th>Inactive_flag</th>\n",
       "    </tr>\n",
       "  </thead>\n",
       "  <tbody>\n",
       "    <tr>\n",
       "      <th>185</th>\n",
       "      <td>8602140</td>\n",
       "      <td>Wang, Xuan</td>\n",
       "      <td>CHN</td>\n",
       "      <td>F</td>\n",
       "      <td>1986.0</td>\n",
       "      <td>NaN</td>\n",
       "      <td>2326</td>\n",
       "      <td>NaN</td>\n",
       "      <td>NaN</td>\n",
       "      <td>Inactive</td>\n",
       "    </tr>\n",
       "    <tr>\n",
       "      <th>216</th>\n",
       "      <td>4106121</td>\n",
       "      <td>Idelchik, Liubov M</td>\n",
       "      <td>RUS</td>\n",
       "      <td>F</td>\n",
       "      <td>NaN</td>\n",
       "      <td>NaN</td>\n",
       "      <td>2315</td>\n",
       "      <td>NaN</td>\n",
       "      <td>NaN</td>\n",
       "      <td>Inactive</td>\n",
       "    </tr>\n",
       "    <tr>\n",
       "      <th>229</th>\n",
       "      <td>8601747</td>\n",
       "      <td>Liu, Bairu</td>\n",
       "      <td>CHN</td>\n",
       "      <td>F</td>\n",
       "      <td>1982.0</td>\n",
       "      <td>NaN</td>\n",
       "      <td>2310</td>\n",
       "      <td>NaN</td>\n",
       "      <td>NaN</td>\n",
       "      <td>Inactive</td>\n",
       "    </tr>\n",
       "    <tr>\n",
       "      <th>312</th>\n",
       "      <td>4107268</td>\n",
       "      <td>Sammula, Martinovna</td>\n",
       "      <td>RUS</td>\n",
       "      <td>F</td>\n",
       "      <td>NaN</td>\n",
       "      <td>NaN</td>\n",
       "      <td>2280</td>\n",
       "      <td>NaN</td>\n",
       "      <td>NaN</td>\n",
       "      <td>Inactive</td>\n",
       "    </tr>\n",
       "    <tr>\n",
       "      <th>331</th>\n",
       "      <td>14102692</td>\n",
       "      <td>Borzenkova, Irina</td>\n",
       "      <td>UKR</td>\n",
       "      <td>F</td>\n",
       "      <td>1976.0</td>\n",
       "      <td>NaN</td>\n",
       "      <td>2275</td>\n",
       "      <td>NaN</td>\n",
       "      <td>NaN</td>\n",
       "      <td>Inactive</td>\n",
       "    </tr>\n",
       "    <tr>\n",
       "      <th>371</th>\n",
       "      <td>11600438</td>\n",
       "      <td>Klovane, Astra</td>\n",
       "      <td>LAT</td>\n",
       "      <td>F</td>\n",
       "      <td>1944.0</td>\n",
       "      <td>NaN</td>\n",
       "      <td>2265</td>\n",
       "      <td>NaN</td>\n",
       "      <td>NaN</td>\n",
       "      <td>Inactive</td>\n",
       "    </tr>\n",
       "    <tr>\n",
       "      <th>383</th>\n",
       "      <td>4162919</td>\n",
       "      <td>Grigoryeva, Natalya</td>\n",
       "      <td>RUS</td>\n",
       "      <td>F</td>\n",
       "      <td>1982.0</td>\n",
       "      <td>NaN</td>\n",
       "      <td>2262</td>\n",
       "      <td>NaN</td>\n",
       "      <td>NaN</td>\n",
       "      <td>Inactive</td>\n",
       "    </tr>\n",
       "    <tr>\n",
       "      <th>387</th>\n",
       "      <td>54117739</td>\n",
       "      <td>Nur-Mukhametova, Alisa</td>\n",
       "      <td>RUS</td>\n",
       "      <td>F</td>\n",
       "      <td>2005.0</td>\n",
       "      <td>NaN</td>\n",
       "      <td>2262</td>\n",
       "      <td>2031.0</td>\n",
       "      <td>1819.0</td>\n",
       "      <td>Active</td>\n",
       "    </tr>\n",
       "    <tr>\n",
       "      <th>393</th>\n",
       "      <td>8602816</td>\n",
       "      <td>Zeng, Bei</td>\n",
       "      <td>CHN</td>\n",
       "      <td>F</td>\n",
       "      <td>NaN</td>\n",
       "      <td>NaN</td>\n",
       "      <td>2261</td>\n",
       "      <td>NaN</td>\n",
       "      <td>NaN</td>\n",
       "      <td>Inactive</td>\n",
       "    </tr>\n",
       "    <tr>\n",
       "      <th>394</th>\n",
       "      <td>4141237</td>\n",
       "      <td>Ibragimova, Lilia</td>\n",
       "      <td>RUS</td>\n",
       "      <td>F</td>\n",
       "      <td>1966.0</td>\n",
       "      <td>NaN</td>\n",
       "      <td>2260</td>\n",
       "      <td>2222.0</td>\n",
       "      <td>2204.0</td>\n",
       "      <td>Inactive</td>\n",
       "    </tr>\n",
       "    <tr>\n",
       "      <th>398</th>\n",
       "      <td>4185803</td>\n",
       "      <td>Kostyuk, Tatiana</td>\n",
       "      <td>RUS</td>\n",
       "      <td>F</td>\n",
       "      <td>1979.0</td>\n",
       "      <td>NaN</td>\n",
       "      <td>2260</td>\n",
       "      <td>NaN</td>\n",
       "      <td>NaN</td>\n",
       "      <td>Inactive</td>\n",
       "    </tr>\n",
       "    <tr>\n",
       "      <th>399</th>\n",
       "      <td>301680</td>\n",
       "      <td>Kratochvilova, Jana</td>\n",
       "      <td>CZE</td>\n",
       "      <td>F</td>\n",
       "      <td>1999.0</td>\n",
       "      <td>NaN</td>\n",
       "      <td>2260</td>\n",
       "      <td>NaN</td>\n",
       "      <td>NaN</td>\n",
       "      <td>Inactive</td>\n",
       "    </tr>\n",
       "    <tr>\n",
       "      <th>400</th>\n",
       "      <td>4173490</td>\n",
       "      <td>Kuleshova, Nadezhda N</td>\n",
       "      <td>RUS</td>\n",
       "      <td>F</td>\n",
       "      <td>1985.0</td>\n",
       "      <td>NaN</td>\n",
       "      <td>2260</td>\n",
       "      <td>NaN</td>\n",
       "      <td>NaN</td>\n",
       "      <td>Inactive</td>\n",
       "    </tr>\n",
       "    <tr>\n",
       "      <th>414</th>\n",
       "      <td>4640586</td>\n",
       "      <td>Meier, Annemarie</td>\n",
       "      <td>GER</td>\n",
       "      <td>F</td>\n",
       "      <td>1957.0</td>\n",
       "      <td>NaN</td>\n",
       "      <td>2258</td>\n",
       "      <td>NaN</td>\n",
       "      <td>NaN</td>\n",
       "      <td>Inactive</td>\n",
       "    </tr>\n",
       "    <tr>\n",
       "      <th>419</th>\n",
       "      <td>706787</td>\n",
       "      <td>Felkai, Agnes</td>\n",
       "      <td>HUN</td>\n",
       "      <td>F</td>\n",
       "      <td>1974.0</td>\n",
       "      <td>NaN</td>\n",
       "      <td>2257</td>\n",
       "      <td>NaN</td>\n",
       "      <td>NaN</td>\n",
       "      <td>Inactive</td>\n",
       "    </tr>\n",
       "    <tr>\n",
       "      <th>431</th>\n",
       "      <td>44164548</td>\n",
       "      <td>Pogorelskikh, Sofia</td>\n",
       "      <td>RUS</td>\n",
       "      <td>F</td>\n",
       "      <td>2004.0</td>\n",
       "      <td>NaN</td>\n",
       "      <td>2255</td>\n",
       "      <td>1912.0</td>\n",
       "      <td>1829.0</td>\n",
       "      <td>Active</td>\n",
       "    </tr>\n",
       "    <tr>\n",
       "      <th>437</th>\n",
       "      <td>8601240</td>\n",
       "      <td>Gao, Zhiqian</td>\n",
       "      <td>CHN</td>\n",
       "      <td>F</td>\n",
       "      <td>1973.0</td>\n",
       "      <td>NaN</td>\n",
       "      <td>2252</td>\n",
       "      <td>NaN</td>\n",
       "      <td>NaN</td>\n",
       "      <td>Inactive</td>\n",
       "    </tr>\n",
       "    <tr>\n",
       "      <th>441</th>\n",
       "      <td>8601704</td>\n",
       "      <td>Xiao, Yue</td>\n",
       "      <td>CHN</td>\n",
       "      <td>F</td>\n",
       "      <td>1987.0</td>\n",
       "      <td>NaN</td>\n",
       "      <td>2252</td>\n",
       "      <td>NaN</td>\n",
       "      <td>NaN</td>\n",
       "      <td>Inactive</td>\n",
       "    </tr>\n",
       "    <tr>\n",
       "      <th>467</th>\n",
       "      <td>4158237</td>\n",
       "      <td>Alliulova, Dina</td>\n",
       "      <td>RUS</td>\n",
       "      <td>F</td>\n",
       "      <td>1986.0</td>\n",
       "      <td>NaN</td>\n",
       "      <td>2245</td>\n",
       "      <td>NaN</td>\n",
       "      <td>NaN</td>\n",
       "      <td>Inactive</td>\n",
       "    </tr>\n",
       "    <tr>\n",
       "      <th>468</th>\n",
       "      <td>4141911</td>\n",
       "      <td>Druzhinina, Olga</td>\n",
       "      <td>RUS</td>\n",
       "      <td>F</td>\n",
       "      <td>1984.0</td>\n",
       "      <td>NaN</td>\n",
       "      <td>2245</td>\n",
       "      <td>NaN</td>\n",
       "      <td>2163.0</td>\n",
       "      <td>Inactive</td>\n",
       "    </tr>\n",
       "  </tbody>\n",
       "</table>\n",
       "</div>"
      ],
      "text/plain": [
       "      Fide id                    Name Federation Gender  Year_of_birth Title  \\\n",
       "185   8602140              Wang, Xuan        CHN      F         1986.0   NaN   \n",
       "216   4106121      Idelchik, Liubov M        RUS      F            NaN   NaN   \n",
       "229   8601747              Liu, Bairu        CHN      F         1982.0   NaN   \n",
       "312   4107268     Sammula, Martinovna        RUS      F            NaN   NaN   \n",
       "331  14102692       Borzenkova, Irina        UKR      F         1976.0   NaN   \n",
       "371  11600438          Klovane, Astra        LAT      F         1944.0   NaN   \n",
       "383   4162919     Grigoryeva, Natalya        RUS      F         1982.0   NaN   \n",
       "387  54117739  Nur-Mukhametova, Alisa        RUS      F         2005.0   NaN   \n",
       "393   8602816               Zeng, Bei        CHN      F            NaN   NaN   \n",
       "394   4141237       Ibragimova, Lilia        RUS      F         1966.0   NaN   \n",
       "398   4185803        Kostyuk, Tatiana        RUS      F         1979.0   NaN   \n",
       "399    301680     Kratochvilova, Jana        CZE      F         1999.0   NaN   \n",
       "400   4173490   Kuleshova, Nadezhda N        RUS      F         1985.0   NaN   \n",
       "414   4640586        Meier, Annemarie        GER      F         1957.0   NaN   \n",
       "419    706787           Felkai, Agnes        HUN      F         1974.0   NaN   \n",
       "431  44164548     Pogorelskikh, Sofia        RUS      F         2004.0   NaN   \n",
       "437   8601240            Gao, Zhiqian        CHN      F         1973.0   NaN   \n",
       "441   8601704               Xiao, Yue        CHN      F         1987.0   NaN   \n",
       "467   4158237         Alliulova, Dina        RUS      F         1986.0   NaN   \n",
       "468   4141911        Druzhinina, Olga        RUS      F         1984.0   NaN   \n",
       "\n",
       "     Standard_Rating  Rapid_rating  Blitz_rating Inactive_flag  \n",
       "185             2326           NaN           NaN      Inactive  \n",
       "216             2315           NaN           NaN      Inactive  \n",
       "229             2310           NaN           NaN      Inactive  \n",
       "312             2280           NaN           NaN      Inactive  \n",
       "331             2275           NaN           NaN      Inactive  \n",
       "371             2265           NaN           NaN      Inactive  \n",
       "383             2262           NaN           NaN      Inactive  \n",
       "387             2262        2031.0        1819.0        Active  \n",
       "393             2261           NaN           NaN      Inactive  \n",
       "394             2260        2222.0        2204.0      Inactive  \n",
       "398             2260           NaN           NaN      Inactive  \n",
       "399             2260           NaN           NaN      Inactive  \n",
       "400             2260           NaN           NaN      Inactive  \n",
       "414             2258           NaN           NaN      Inactive  \n",
       "419             2257           NaN           NaN      Inactive  \n",
       "431             2255        1912.0        1829.0        Active  \n",
       "437             2252           NaN           NaN      Inactive  \n",
       "441             2252           NaN           NaN      Inactive  \n",
       "467             2245           NaN           NaN      Inactive  \n",
       "468             2245           NaN        2163.0      Inactive  "
      ]
     },
     "execution_count": 53,
     "metadata": {},
     "output_type": "execute_result"
    }
   ],
   "source": [
    "df[df['Title'].isnull()].head(20)"
   ]
  },
  {
   "cell_type": "code",
   "execution_count": 60,
   "metadata": {},
   "outputs": [
    {
     "data": {
      "text/plain": [
       "WH     3570\n",
       "WFM    1904\n",
       "WCM    1689\n",
       "WIM     871\n",
       "WGM     319\n",
       "IM      119\n",
       "GM       37\n",
       "FM       36\n",
       "CM        8\n",
       "Name: Title, dtype: int64"
      ]
     },
     "execution_count": 60,
     "metadata": {},
     "output_type": "execute_result"
    }
   ],
   "source": [
    "def overwrite (num, fill):\n",
    "    part = copy['Standard_Rating'] > num\n",
    "    copy.loc[part, 'Title'] = copy.loc[part, 'Title'].fillna(fill)\n",
    "\n",
    "copy = df\n",
    "overwrite(2499, 'GM')\n",
    "overwrite(2399, 'IM')\n",
    "overwrite(2299, 'WGM')\n",
    "overwrite(2199, 'WIM')\n",
    "overwrite(2299, 'FM')\n",
    "overwrite(2099, 'WFM')\n",
    "overwrite(2199, 'CM')\n",
    "overwrite(1999, 'WCM')\n",
    "overwrite(0, 'WH')\n",
    "copy['Title'].value_counts(dropna=False)\n",
    "#copy['Title'] = copy[copy['Standard_Rating'] > 2499]['Title'].fillna('GM')\n",
    "#copy['Title'].value_counts(dropna=False)\n"
   ]
  },
  {
   "cell_type": "code",
   "execution_count": 61,
   "metadata": {},
   "outputs": [
    {
     "data": {
      "text/plain": [
       "RUS    1698\n",
       "GER     621\n",
       "POL     384\n",
       "UKR     287\n",
       "IND     284\n",
       "       ... \n",
       "MAD       1\n",
       "NAM       1\n",
       "UGA       1\n",
       "BER       1\n",
       "MAC       1\n",
       "Name: Federation, Length: 124, dtype: int64"
      ]
     },
     "execution_count": 61,
     "metadata": {},
     "output_type": "execute_result"
    }
   ],
   "source": [
    "count = df['Federation'].value_counts()\n",
    "count"
   ]
  },
  {
   "cell_type": "code",
   "execution_count": 62,
   "metadata": {},
   "outputs": [
    {
     "data": {
      "text/plain": [
       "<matplotlib.axes._subplots.AxesSubplot at 0x21e842b8cc8>"
      ]
     },
     "execution_count": 62,
     "metadata": {},
     "output_type": "execute_result"
    },
    {
     "data": {
      "image/png": "[encoded data removed]",
      "text/plain": [
       "<Figure size 432x288 with 1 Axes>"
      ]
     },
     "metadata": {
      "needs_background": "light"
     },
     "output_type": "display_data"
    }
   ],
   "source": [
    "count20 = count.head(20)\n",
    "count20.plot(kind=\"bar\")"
   ]
  },
  {
   "cell_type": "code",
   "execution_count": 63,
   "metadata": {},
   "outputs": [
    {
     "data": {
      "text/plain": [
       "<matplotlib.axes._subplots.AxesSubplot at 0x21e8434a908>"
      ]
     },
     "execution_count": 63,
     "metadata": {},
     "output_type": "execute_result"
    },
    {
     "data": {
      "image/png": "[encoded data removed]",
      "text/plain": [
       "<Figure size 432x288 with 1 Axes>"
      ]
     },
     "metadata": {
      "needs_background": "light"
     },
     "output_type": "display_data"
    }
   ],
   "source": [
    "sns.distplot(df['Year_of_birth'])"
   ]
  },
  {
   "cell_type": "code",
   "execution_count": 64,
   "metadata": {},
   "outputs": [
    {
     "data": {
      "text/html": [
       "<div>\n",
       "<style scoped>\n",
       "    .dataframe tbody tr th:only-of-type {\n",
       "        vertical-align: middle;\n",
       "    }\n",
       "\n",
       "    .dataframe tbody tr th {\n",
       "        vertical-align: top;\n",
       "    }\n",
       "\n",
       "    .dataframe thead th {\n",
       "        text-align: right;\n",
       "    }\n",
       "</style>\n",
       "<table border=\"1\" class=\"dataframe\">\n",
       "  <thead>\n",
       "    <tr style=\"text-align: right;\">\n",
       "      <th></th>\n",
       "      <th>Fide id</th>\n",
       "      <th>Name</th>\n",
       "      <th>Federation</th>\n",
       "      <th>Gender</th>\n",
       "      <th>Year_of_birth</th>\n",
       "      <th>Title</th>\n",
       "      <th>Standard_Rating</th>\n",
       "      <th>Rapid_rating</th>\n",
       "      <th>Blitz_rating</th>\n",
       "      <th>Inactive_flag</th>\n",
       "      <th>Age</th>\n",
       "    </tr>\n",
       "  </thead>\n",
       "  <tbody>\n",
       "    <tr>\n",
       "      <th>0</th>\n",
       "      <td>700070</td>\n",
       "      <td>Polgar, Judit</td>\n",
       "      <td>HUN</td>\n",
       "      <td>F</td>\n",
       "      <td>1976.0</td>\n",
       "      <td>GM</td>\n",
       "      <td>2675</td>\n",
       "      <td>2646.0</td>\n",
       "      <td>2736.0</td>\n",
       "      <td>Inactive</td>\n",
       "      <td>44.0</td>\n",
       "    </tr>\n",
       "    <tr>\n",
       "      <th>1</th>\n",
       "      <td>8602980</td>\n",
       "      <td>Hou, Yifan</td>\n",
       "      <td>CHN</td>\n",
       "      <td>F</td>\n",
       "      <td>1994.0</td>\n",
       "      <td>GM</td>\n",
       "      <td>2658</td>\n",
       "      <td>2621.0</td>\n",
       "      <td>2601.0</td>\n",
       "      <td>Active</td>\n",
       "      <td>26.0</td>\n",
       "    </tr>\n",
       "    <tr>\n",
       "      <th>2</th>\n",
       "      <td>5008123</td>\n",
       "      <td>Koneru, Humpy</td>\n",
       "      <td>IND</td>\n",
       "      <td>F</td>\n",
       "      <td>1987.0</td>\n",
       "      <td>GM</td>\n",
       "      <td>2586</td>\n",
       "      <td>2483.0</td>\n",
       "      <td>2483.0</td>\n",
       "      <td>Active</td>\n",
       "      <td>33.0</td>\n",
       "    </tr>\n",
       "    <tr>\n",
       "      <th>3</th>\n",
       "      <td>4147103</td>\n",
       "      <td>Goryachkina, Aleksandra</td>\n",
       "      <td>RUS</td>\n",
       "      <td>F</td>\n",
       "      <td>1998.0</td>\n",
       "      <td>GM</td>\n",
       "      <td>2582</td>\n",
       "      <td>2502.0</td>\n",
       "      <td>2441.0</td>\n",
       "      <td>Active</td>\n",
       "      <td>22.0</td>\n",
       "    </tr>\n",
       "    <tr>\n",
       "      <th>4</th>\n",
       "      <td>700088</td>\n",
       "      <td>Polgar, Susan</td>\n",
       "      <td>HUN</td>\n",
       "      <td>F</td>\n",
       "      <td>1969.0</td>\n",
       "      <td>GM</td>\n",
       "      <td>2577</td>\n",
       "      <td>NaN</td>\n",
       "      <td>NaN</td>\n",
       "      <td>Inactive</td>\n",
       "      <td>51.0</td>\n",
       "    </tr>\n",
       "  </tbody>\n",
       "</table>\n",
       "</div>"
      ],
      "text/plain": [
       "   Fide id                     Name Federation Gender  Year_of_birth Title  \\\n",
       "0   700070            Polgar, Judit        HUN      F         1976.0    GM   \n",
       "1  8602980               Hou, Yifan        CHN      F         1994.0    GM   \n",
       "2  5008123            Koneru, Humpy        IND      F         1987.0    GM   \n",
       "3  4147103  Goryachkina, Aleksandra        RUS      F         1998.0    GM   \n",
       "4   700088            Polgar, Susan        HUN      F         1969.0    GM   \n",
       "\n",
       "   Standard_Rating  Rapid_rating  Blitz_rating Inactive_flag   Age  \n",
       "0             2675        2646.0        2736.0      Inactive  44.0  \n",
       "1             2658        2621.0        2601.0        Active  26.0  \n",
       "2             2586        2483.0        2483.0        Active  33.0  \n",
       "3             2582        2502.0        2441.0        Active  22.0  \n",
       "4             2577           NaN           NaN      Inactive  51.0  "
      ]
     },
     "execution_count": 64,
     "metadata": {},
     "output_type": "execute_result"
    }
   ],
   "source": [
    "df['Age'] = 2020 - df['Year_of_birth']\n",
    "df.head()"
   ]
  },
  {
   "cell_type": "code",
   "execution_count": 65,
   "metadata": {},
   "outputs": [
    {
     "data": {
      "text/plain": [
       "<matplotlib.axes._subplots.AxesSubplot at 0x21e84432e08>"
      ]
     },
     "execution_count": 65,
     "metadata": {},
     "output_type": "execute_result"
    },
    {
     "data": {
      "image/png": "[encoded data removed]",
      "text/plain": [
       "<Figure size 432x288 with 1 Axes>"
      ]
     },
     "metadata": {
      "needs_background": "light"
     },
     "output_type": "display_data"
    }
   ],
   "source": [
    "sns.distplot(df['Age'])"
   ]
  },
  {
   "cell_type": "code",
   "execution_count": 66,
   "metadata": {},
   "outputs": [
    {
     "data": {
      "text/plain": [
       "31.0     335\n",
       "33.0     330\n",
       "30.0     319\n",
       "29.0     315\n",
       "32.0     306\n",
       "        ... \n",
       "88.0       2\n",
       "87.0       1\n",
       "90.0       1\n",
       "99.0       1\n",
       "100.0      1\n",
       "Name: Age, Length: 87, dtype: int64"
      ]
     },
     "execution_count": 66,
     "metadata": {},
     "output_type": "execute_result"
    }
   ],
   "source": [
    "age_count = df['Age'].value_counts()\n",
    "age_count"
   ]
  },
  {
   "cell_type": "code",
   "execution_count": 67,
   "metadata": {},
   "outputs": [
    {
     "data": {
      "text/plain": [
       "<matplotlib.axes._subplots.AxesSubplot at 0x21e8452c1c8>"
      ]
     },
     "execution_count": 67,
     "metadata": {},
     "output_type": "execute_result"
    },
    {
     "data": {
      "image/png": "[encoded data removed]",
      "text/plain": [
       "<Figure size 432x288 with 1 Axes>"
      ]
     },
     "metadata": {
      "needs_background": "light"
     },
     "output_type": "display_data"
    }
   ],
   "source": [
    "age_count20 = age_count.head(20)\n",
    "age_count20.plot(kind=\"bar\")"
   ]
  },
  {
   "cell_type": "code",
   "execution_count": 68,
   "metadata": {},
   "outputs": [
    {
     "data": {
      "text/plain": [
       "Federation  Title\n",
       "AHO         WFM      1\n",
       "            WH       1\n",
       "ALB         WCM      5\n",
       "            WFM      3\n",
       "ALG         WCM      1\n",
       "                    ..\n",
       "ZAM         WFM      1\n",
       "            WH       1\n",
       "            WIM      1\n",
       "ZIM         WCM      1\n",
       "            WH       1\n",
       "Length: 543, dtype: int64"
      ]
     },
     "execution_count": 68,
     "metadata": {},
     "output_type": "execute_result"
    }
   ],
   "source": [
    "area_title = df.groupby(['Federation', 'Title']).size()\n",
    "area_title"
   ]
  },
  {
   "cell_type": "code",
   "execution_count": 69,
   "metadata": {},
   "outputs": [
    {
     "data": {
      "text/plain": [
       "Federation  Title\n",
       "RUS         WH       679\n",
       "            WFM      518\n",
       "GER         WH       338\n",
       "RUS         WCM      291\n",
       "POL         WH       184\n",
       "                    ... \n",
       "KAZ         FM         1\n",
       "JPN         WIM        1\n",
       "ZIM         WCM        1\n",
       "JAM         CM         1\n",
       "AHO         WFM        1\n",
       "Length: 543, dtype: int64"
      ]
     },
     "execution_count": 69,
     "metadata": {},
     "output_type": "execute_result"
    }
   ],
   "source": [
    "area_title.sort_values(ascending=False,inplace=True)\n",
    "area_title"
   ]
  },
  {
   "cell_type": "code",
   "execution_count": 70,
   "metadata": {},
   "outputs": [
    {
     "data": {
      "text/plain": [
       "<matplotlib.axes._subplots.AxesSubplot at 0x21e845f3488>"
      ]
     },
     "execution_count": 70,
     "metadata": {},
     "output_type": "execute_result"
    },
    {
     "data": {
      "image/png": "[encoded data removed]",
      "text/plain": [
       "<Figure size 432x288 with 1 Axes>"
      ]
     },
     "metadata": {
      "needs_background": "light"
     },
     "output_type": "display_data"
    }
   ],
   "source": [
    "area_title20 = area_title.head(20)\n",
    "area_title20.plot(kind=\"bar\")"
   ]
  },
  {
   "cell_type": "code",
   "execution_count": 71,
   "metadata": {},
   "outputs": [
    {
     "data": {
      "text/plain": [
       "WH     3570\n",
       "WFM    1904\n",
       "WCM    1689\n",
       "WIM     871\n",
       "WGM     319\n",
       "IM      119\n",
       "GM       37\n",
       "FM       36\n",
       "CM        8\n",
       "Name: Title, dtype: int64"
      ]
     },
     "execution_count": 71,
     "metadata": {},
     "output_type": "execute_result"
    }
   ],
   "source": [
    "title_counts = df['Title'].value_counts()\n",
    "title_counts.head(20)"
   ]
  },
  {
   "cell_type": "code",
   "execution_count": 72,
   "metadata": {},
   "outputs": [
    {
     "data": {
      "text/plain": [
       "Inactive    5852\n",
       "Active      2701\n",
       "Name: Inactive_flag, dtype: int64"
      ]
     },
     "execution_count": 72,
     "metadata": {},
     "output_type": "execute_result"
    }
   ],
   "source": [
    "inactive = df['Inactive_flag'].value_counts()\n",
    "inactive.head()"
   ]
  },
  {
   "cell_type": "code",
   "execution_count": 81,
   "metadata": {},
   "outputs": [
    {
     "data": {
      "text/plain": [
       "Federation  Title\n",
       "AHO         WFM      1\n",
       "ALB         WCM      3\n",
       "ALG         WGM      1\n",
       "            WIM      5\n",
       "ANG         WFM      1\n",
       "                    ..\n",
       "WLS         WCM      4\n",
       "            WFM      2\n",
       "            WH       1\n",
       "ZAM         WFM      1\n",
       "ZIM         WH       1\n",
       "Length: 450, dtype: int64"
      ]
     },
     "execution_count": 81,
     "metadata": {},
     "output_type": "execute_result"
    }
   ],
   "source": [
    "area_title_activity = df.loc[df['Inactive_flag'] == 'Active'].groupby(['Federation', 'Title']).size()\n",
    "area_title_activity"
   ]
  },
  {
   "cell_type": "code",
   "execution_count": 83,
   "metadata": {},
   "outputs": [
    {
     "data": {
      "text/plain": [
       "<matplotlib.axes._subplots.AxesSubplot at 0x21e846b1c48>"
      ]
     },
     "execution_count": 83,
     "metadata": {},
     "output_type": "execute_result"
    },
    {
     "data": {
      "image/png": "[encoded data removed]",
      "text/plain": [
       "<Figure size 432x288 with 1 Axes>"
      ]
     },
     "metadata": {
      "needs_background": "light"
     },
     "output_type": "display_data"
    }
   ],
   "source": [
    "area_title_activity20 = area_title_activity.sort_values(ascending=False).head(20)\n",
    "area_title_activity20.plot(kind=\"bar\")"
   ]
  },
  {
   "cell_type": "code",
   "execution_count": null,
   "metadata": {},
   "outputs": [],
   "source": []
  }
 ],
 "metadata": {
  "kernelspec": {
   "display_name": "Python 3",
   "language": "python",
   "name": "python3"
  },
  "language_info": {
   "codemirror_mode": {
    "name": "ipython",
    "version": 3
   },
   "file_extension": ".py",
   "mimetype": "text/x-python",
   "name": "python",
   "nbconvert_exporter": "python",
   "pygments_lexer": "ipython3",
   "version": "3.7.6"
  }
 },
 "nbformat": 4,
 "nbformat_minor": 4
}
